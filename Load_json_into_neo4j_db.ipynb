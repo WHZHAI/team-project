{
 "cells": [
  {
   "cell_type": "code",
   "execution_count": 7,
   "metadata": {
    "collapsed": true
   },
   "outputs": [],
   "source": [
    "from py2neo import Graph,Node,Relationship\n",
    "import numpy as np\n",
    "import json\n",
    "import os"
   ]
  },
  {
   "cell_type": "code",
   "execution_count": 8,
   "metadata": {
    "collapsed": true
   },
   "outputs": [],
   "source": [
    "graph = Graph(\n",
    "    \"http://localhost:7474\", \n",
    "    username=\"neo4j\", \n",
    "    password=\"doramon401\"\n",
    ")"
   ]
  },
  {
   "cell_type": "code",
   "execution_count": 9,
   "metadata": {
    "collapsed": true
   },
   "outputs": [],
   "source": [
    "graph.delete_all()"
   ]
  },
  {
   "cell_type": "code",
   "execution_count": 10,
   "metadata": {
    "collapsed": true
   },
   "outputs": [],
   "source": [
    "def load_one_file(fn):\n",
    "    #load the json file\n",
    "#     f = file(fn)\n",
    "    with open(fn) as f:\n",
    "        test = json.load(f)\n",
    "        \n",
    "    #save the article/doc. node\n",
    "    article = Node('ARTICLE',name = test['TITLE'], ID = test['ID'])\n",
    "    #save the author node\n",
    "    author = Node(\"PERSON\",name = test['AUTHOR'])\n",
    "    #graph.merge(): carried out by comparing that node with a potential remote equivalent \n",
    "    #on the basis of a label and property value. If no remote match is found, a new node is created. \n",
    "    graph.merge(article|author)\n",
    "    graph.merge(Relationship(author,'WRITES',article))\n",
    "    #save the location nodes\n",
    "    for i in np.arange(len(test['LOCATION'])):\n",
    "        location = Node(\"LOCATION\",name = test['LOCATION'][i])\n",
    "        graph.merge(location)\n",
    "        graph.merge(Relationship(article,'MENTIONS',location))\n",
    "    #save the organization nodes\n",
    "    for j in np.arange(len(test['ORGANIZATION'])):\n",
    "        organization = Node(\"ORGANIZATION\",name = test['ORGANIZATION'][j])\n",
    "        graph.merge(organization)\n",
    "        graph.merge(Relationship(article,'MENTIONS',organization))\n",
    "    #save the person nodes\n",
    "    #person who is mentioned and the author will be saved in the same label \"PERSON\"\n",
    "    #because author may be mentioned in other doc.\n",
    "    for k in np.arange(len(test['PERSON'])):\n",
    "        person = Node(\"PERSON\",name = test['PERSON'][k])\n",
    "        graph.merge(person)\n",
    "        graph.merge(Relationship(article,'MENTIONS',person))"
   ]
  },
  {
   "cell_type": "code",
   "execution_count": 11,
   "metadata": {
    "collapsed": true
   },
   "outputs": [],
   "source": [
    "def getFileList( p ):\n",
    "    p = str( p )\n",
    "    if p==\"\":\n",
    "        return [ ]\n",
    "#     For windows\n",
    "#     p = p.replace( \"/\",\"\\\\\")\n",
    "#     if p[ -1] != \"\\\\\":\n",
    "#         p = p+\"\\\\\"\n",
    "    a = os.listdir( p )\n",
    "    b = [ x   for x in a if os.path.isfile( p + x ) ]\n",
    "    return b"
   ]
  },
  {
   "cell_type": "code",
   "execution_count": 12,
   "metadata": {
    "collapsed": true
   },
   "outputs": [],
   "source": [
    "fileList = getFileList(\"json/\")"
   ]
  },
  {
   "cell_type": "code",
   "execution_count": 13,
   "metadata": {
    "collapsed": true
   },
   "outputs": [],
   "source": [
    "def load_files(folderPath):\n",
    "    fileList = getFileList(folderPath)\n",
    "    for v in np.arange(len(fileList)):\n",
    "    #for v in np.arange(9):\n",
    "        load_one_file(folderPath+fileList[v])"
   ]
  },
  {
   "cell_type": "code",
   "execution_count": 14,
   "metadata": {
    "collapsed": true
   },
   "outputs": [],
   "source": [
    "load_files(\"json/\")"
   ]
  },
  {
   "cell_type": "code",
   "execution_count": null,
   "metadata": {
    "collapsed": true
   },
   "outputs": [],
   "source": []
  }
 ],
 "metadata": {
  "kernelspec": {
   "display_name": "Python 3",
   "language": "python",
   "name": "python3"
  },
  "language_info": {
   "codemirror_mode": {
    "name": "ipython",
    "version": 3
   },
   "file_extension": ".py",
   "mimetype": "text/x-python",
   "name": "python",
   "nbconvert_exporter": "python",
   "pygments_lexer": "ipython3",
   "version": "3.6.1"
  }
 },
 "nbformat": 4,
 "nbformat_minor": 2
}
